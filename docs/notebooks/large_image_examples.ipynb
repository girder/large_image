{
 "cells": [
  {
   "cell_type": "markdown",
   "id": "73529f76-83b2-4d2c-b8f3-01bd9c1696af",
   "metadata": {},
   "source": [
    "Using Large Image in Jupyter\n",
    "============================\n",
    "\n",
    "The large_image library has some convenience features for use in Jupyter Notebooks and Jupyter Lab.  Different features are available depending on whether your data files are local or on a Girder server."
   ]
  },
  {
   "cell_type": "markdown",
   "id": "ffb9e79e-2d89-4e41-92cb-ee736833d309",
   "metadata": {},
   "source": [
    "Installation\n",
    "------------\n",
    "\n",
    "The large_image library has a variety of tile sources to support a wide range of file formats.  Many of these depend\n",
    "on binary libraries.  For linux systems, you can install these from python wheels via the `--find-links` option.  For\n",
    "other operating systems, you will need to install different libraries depending on what tile sources you wish to use."
   ]
  },
  {
   "cell_type": "code",
   "execution_count": 1,
   "id": "fa38be1a-341a-4725-98f0-b61318fc696a",
   "metadata": {},
   "outputs": [
    {
     "name": "stdout",
     "output_type": "stream",
     "text": [
      "Looking in links: https://girder.github.io/large_image_wheels\n"
     ]
    }
   ],
   "source": [
    "# This will install large_image, including all sources and many other options\n",
    "!pip install large_image[all] --find-links https://girder.github.io/large_image_wheels\n",
    "# For a smaller set of tile sources, you could also do:\n",
    "# !pip install large_image[pil,rasterio,tifffile]\n",
    "\n",
    "# For maximum capabilities in Jupyter, also install ipyleaflet so you can\n",
    "# view zoomable images in the notebook\n",
    "!pip install 'ipyleaflet>=0.19'\n",
    "\n",
    "# If you are accessing files on a Girder server, it is useful to install girder_client\n",
    "!pip install girder_client"
   ]
  },
  {
   "cell_type": "markdown",
   "id": "c9a14ff3-4c28-49af-ad71-565f420770c9",
   "metadata": {},
   "source": [
    "Using Local Files\n",
    "-----------------\n",
    "\n",
    "When using large_image with local files, when you open a file, large_image returns a tile source.  See [girder.github.io/large_image](https://girder.github.io/large_image) for documentation on what you can do with this.\n",
    "\n",
    "First, we download a few files so we can use them locally."
   ]
  },
  {
   "cell_type": "code",
   "execution_count": 2,
   "id": "73409e8c-08b3-4891-a7fc-c5c42e453ffb",
   "metadata": {},
   "outputs": [
    {
     "name": "stdout",
     "output_type": "stream",
     "text": [
      "  % Total    % Received % Xferd  Average Speed   Time    Time     Time  Current\n",
      "                                 Dload  Upload   Total   Spent    Left  Speed\n",
      "100 32.8M  100 32.8M    0     0   103M      0 --:--:-- --:--:-- --:--:--  103M\n",
      "  % Total    % Received % Xferd  Average Speed   Time    Time     Time  Current\n",
      "                                 Dload  Upload   Total   Spent    Left  Speed\n",
      "100 59.0M  100 59.0M    0     0  96.9M      0 --:--:-- --:--:-- --:--:-- 96.8M\n"
     ]
    }
   ],
   "source": [
    "# Get a few files so we can use them locally\n",
    "!curl -L -C - -o TC_NG_SFBay_US_Geo_COG.tif https://data.kitware.com/api/v1/file/hashsum/sha512/5e56cdb8fb1a02615698a153862c10d5292b1ad42836a6e8bce5627e93a387dc0d3c9b6cfbd539796500bc2d3e23eafd07550f8c214e9348880bbbc6b3b0ea0c/download\n",
    "!curl -L -C - -o TCGA-AA-A02O-11A-01-BS1.svs https://data.kitware.com/api/v1/file/hashsum/sha512/1b75a4ec911017aef5c885760a3c6575dacf5f8efb59fb0e011108dce85b1f4e97b8d358f3363c1f5ea6f1c3698f037554aec1620bbdd4cac54e3d5c9c1da1fd/download"
   ]
  },
  {
   "cell_type": "markdown",
   "id": "09722713-e1e8-4ae2-939d-e9aa996e4c42",
   "metadata": {},
   "source": [
    "Basic Use\n",
    "---------\n",
    "The large_image library has a variety of tile sources that support a wide range of formats.\n",
    "In general, you don't need to know the format of a file, you can just open it.\n",
    "\n",
    "Every file has a common interface regardless of its format.  The metadata gives a common summary of the data."
   ]
  },
  {
   "cell_type": "code",
   "execution_count": 3,
   "id": "525e98e6-103b-4b95-becc-c23931f17873",
   "metadata": {},
   "outputs": [
    {
     "data": {
      "image/jpeg": "[encoded data removed]",
      "text/plain": [
       "ImageBytes<5146> (image/jpeg)"
      ]
     },
     "execution_count": 3,
     "metadata": {},
     "output_type": "execute_result"
    }
   ],
   "source": [
    "import large_image\n",
    "\n",
    "ts = large_image.open('TCGA-AA-A02O-11A-01-BS1.svs')\n",
    "# The thumbnail method returns a tuple with an image or numpy array and a mime type\n",
    "ts.getThumbnail()[0]"
   ]
  },
  {
   "cell_type": "code",
   "execution_count": 4,
   "id": "6e3ee887-a21f-426b-b221-9e3504d75870",
   "metadata": {},
   "outputs": [
    {
     "data": {
      "application/json": {
       "bandCount": 4,
       "dtype": "uint8",
       "levels": 9,
       "magnification": 20,
       "mm_x": 0.0004991,
       "mm_y": 0.0004991,
       "sizeX": 55988,
       "sizeY": 16256,
       "tileHeight": 256,
       "tileWidth": 256
      },
      "text/plain": [
       "{'levels': 9,\n",
       " 'sizeX': 55988,\n",
       " 'sizeY': 16256,\n",
       " 'tileWidth': 256,\n",
       " 'tileHeight': 256,\n",
       " 'magnification': 20.0,\n",
       " 'mm_x': 0.0004991,\n",
       " 'mm_y': 0.0004991,\n",
       " 'dtype': 'uint8',\n",
       " 'bandCount': 4}"
      ]
     },
     "execution_count": 4,
     "metadata": {},
     "output_type": "execute_result"
    }
   ],
   "source": [
    "# Every image's dimensions are in `sizeX` and `sizeY`.  If known, a variety of other information\n",
    "# is provided.\n",
    "ts.metadata"
   ]
  },
  {
   "cell_type": "markdown",
   "id": "27c92320-3c21-40a0-89e0-266ee6850c4c",
   "metadata": {},
   "source": [
    "If you have ipyleaflet installed and are using JupyterLab, you can ask the system to proxy requests\n",
    "to an internal tile server that allows you to view the image in a zoomable viewer.  There are more options\n",
    "depending on your Jupyter configuration and whether it is running locally or remotely.  \n",
    "Some environments need different proxy options, like Google CoLab.\n",
    "The system will attempt to determine the correct proxy values by default.\n",
    "If you needed to, you could ask JupyterLab to locally proxy an internal tile server.  As an example:\n",
    "\n",
    "`large_image.tilesource.jupyter.IPyLeafletMixin.JUPYTER_PROXY = True`\n",
    "\n",
    "If ipyleaflet isn't installed, inspecting a tile source will just show the thumbnail."
   ]
  },
  {
   "cell_type": "code",
   "execution_count": 5,
   "id": "c0b16fe7-5237-4fdb-9bd4-9b017c7abc8c",
   "metadata": {},
   "outputs": [
    {
     "data": {
      "application/vnd.jupyter.widget-view+json": {
       "model_id": "48f48c57d0454472bf135cf1fac22cea",
       "version_major": 2,
       "version_minor": 0
      },
      "text/plain": [
       "Map(center=[8128.0, 27994.0], controls=(ZoomControl(options=['position', 'zoom_in_text', 'zoom_in_title', 'zoo…"
      ]
     },
     "metadata": {},
     "output_type": "display_data"
    }
   ],
   "source": [
    "# Look at our tile source\n",
    "ts"
   ]
  },
  {
   "cell_type": "markdown",
   "id": "565cd319-7a07-4fe4-9160-b4ec84671821",
   "metadata": {},
   "source": [
    "By default in the Jupyter notebook environment, images are opened with PNG encoding so that  areas outside the image bounds are transparent. \n",
    "You may chose to specify a different encoding when opening the image. Applicable options include 'JPEG', 'PNG', 'TIFF', and 'TILED'. \n",
    "Opening this image with 'JPEG' encoding may result in black borders outside of the image bounds."
   ]
  },
  {
   "cell_type": "code",
   "execution_count": 6,
   "id": "25a0538f-8bfb-4079-843e-ba7732d5103c",
   "metadata": {},
   "outputs": [
    {
     "data": {
      "application/vnd.jupyter.widget-view+json": {
       "model_id": "3b6a54aae908468880216fee266860f4",
       "version_major": 2,
       "version_minor": 0
      },
      "text/plain": [
       "Map(center=[8128.0, 27994.0], controls=(ZoomControl(options=['position', 'zoom_in_text', 'zoom_in_title', 'zoo…"
      ]
     },
     "metadata": {},
     "output_type": "display_data"
    }
   ],
   "source": [
    "large_image.open('TCGA-AA-A02O-11A-01-BS1.svs', encoding='JPEG')"
   ]
  },
  {
   "cell_type": "markdown",
   "id": "79d07b59-05da-41f7-89ac-584e057825bf",
   "metadata": {},
   "source": [
    "The IPyLeaflet map uses a bottom-up y, x coordinate system, not the top-down x, y coordinate system \n",
    "most image system use.  The rationale is that this is appropriate for geospatial maps with\n",
    "latitude and longitude, but it doesn't carry over to pixel coordinates very well.  There are some\n",
    "convenience functions to convert coordinates."
   ]
  },
  {
   "cell_type": "code",
   "execution_count": 7,
   "id": "0a1f6720-e4fc-47ea-8d35-158a25516b9f",
   "metadata": {},
   "outputs": [
    {
     "data": {
      "application/vnd.jupyter.widget-view+json": {
       "model_id": "3b6a54aae908468880216fee266860f4",
       "version_major": 2,
       "version_minor": 0
      },
      "text/plain": [
       "Map(bottom=232.0, center=[8128.0, 27994.0], controls=(ZoomControl(options=['position', 'zoom_in_text', 'zoom_i…"
      ]
     },
     "execution_count": 7,
     "metadata": {},
     "output_type": "execute_result"
    }
   ],
   "source": [
    "import ipyleaflet\n",
    "\n",
    "# Get a reference to the IPyLeaflet Map\n",
    "map = ts.iplmap\n",
    "# to_map converts pixel coordinates to IPyLeaflet map coordinates.\n",
    "# draw a rectangle that is wider than tall.\n",
    "rectangle = ipyleaflet.Rectangle(bounds=(ts.to_map((0, 0)), ts.to_map((10000, 5000))))\n",
    "map.add_layer(rectangle)\n",
    "# draw another rectangle that is the size of the whole image.\n",
    "rectangle = ipyleaflet.Rectangle(bounds=(ts.to_map((0, 0)), ts.to_map((ts.sizeX, ts.sizeY))))\n",
    "map.add_layer(rectangle)\n",
    "# show the map\n",
    "map"
   ]
  },
  {
   "cell_type": "markdown",
   "id": "510883e6-2182-4959-852f-86357816ad57",
   "metadata": {},
   "source": [
    "Geospatial Sources\n",
    "------------------\n",
    "\n",
    "For geospatial sources, the default viewer shows the image in context on a world map. By default in the Jupyter notebook environment, geospatial images are opened with a projection of 'EPSG:3857'."
   ]
  },
  {
   "cell_type": "code",
   "execution_count": 8,
   "id": "81556073-6db9-41f8-aa9f-1757845aedf2",
   "metadata": {},
   "outputs": [
    {
     "data": {
      "application/vnd.jupyter.widget-view+json": {
       "model_id": "5150c395482d40fbb80df6cea8fcc4ea",
       "version_major": 2,
       "version_minor": 0
      },
      "text/plain": [
       "Map(center=[37.752214941926994, -122.41877581711466], controls=(ZoomControl(options=['position', 'zoom_in_text…"
      ]
     },
     "metadata": {},
     "output_type": "display_data"
    }
   ],
   "source": [
    "geots = large_image.open('TC_NG_SFBay_US_Geo_COG.tif')\n",
    "geots"
   ]
  },
  {
   "cell_type": "markdown",
   "id": "85de777a-3f29-48bd-9b65-5de991c632bc",
   "metadata": {},
   "source": [
    "To view the image in pixel coordinates without the map layer below, open the file with a projection of None."
   ]
  },
  {
   "cell_type": "code",
   "execution_count": null,
   "id": "21af4215-f45c-486d-b67c-c2ed44bc00b1",
   "metadata": {},
   "outputs": [],
   "source": [
    "large_image.open('TC_NG_SFBay_US_Geo_COG.tif', projection=None)"
   ]
  },
  {
   "cell_type": "markdown",
   "id": "c58bf0a5-dfc7-4e5e-bfc0-e243acfb6313",
   "metadata": {},
   "source": [
    "Geospatial sources have additional metadata and thumbnails."
   ]
  },
  {
   "cell_type": "code",
   "execution_count": 9,
   "id": "5378671a-1374-4f42-822c-94f89cbaa267",
   "metadata": {},
   "outputs": [
    {
     "data": {
      "application/json": {
       "bandCount": 3,
       "bands": {
        "1": {
         "interpretation": "red",
         "max": 255,
         "mean": 56.164648651261,
         "min": 5,
         "stdev": 45.505628098154
        },
        "2": {
         "interpretation": "green",
         "max": 255,
         "mean": 61.590676043792,
         "min": 2,
         "stdev": 35.532493975171
        },
        "3": {
         "interpretation": "blue",
         "max": 255,
         "mean": 47.00898008224,
         "min": 1,
         "stdev": 29.470217162239
        }
       },
       "bounds": {
        "ll": {
         "x": -13660993.43811085,
         "y": 4502326.297712617
        },
        "lr": {
         "x": -13594198.136883384,
         "y": 4502326.297712617
        },
        "srs": "epsg:3857",
        "ul": {
         "x": -13660993.43811085,
         "y": 4586806.951318035
        },
        "ur": {
         "x": -13594198.136883384,
         "y": 4586806.951318035
        },
        "xmax": -13594198.136883384,
        "xmin": -13660993.43811085,
        "ymax": 4586806.951318035,
        "ymin": 4502326.297712617
       },
       "dtype": "uint8",
       "geospatial": true,
       "levels": 15,
       "magnification": null,
       "mm_x": 1381.876143450579,
       "mm_y": 1381.876143450579,
       "projection": "epsg:3857",
       "sizeX": 4194304,
       "sizeY": 4194304,
       "sourceBounds": {
        "ll": {
         "x": -122.71879201711468,
         "y": 37.45219874192699
        },
        "lr": {
         "x": -122.11875961711466,
         "y": 37.45219874192699
        },
        "srs": "+proj=longlat +datum=WGS84 +no_defs",
        "ul": {
         "x": -122.71879201711468,
         "y": 38.052231141926995
        },
        "ur": {
         "x": -122.11875961711466,
         "y": 38.052231141926995
        },
        "xmax": -122.11875961711466,
        "xmin": -122.71879201711468,
        "ymax": 38.052231141926995,
        "ymin": 37.45219874192699
       },
       "sourceLevels": 6,
       "sourceSizeX": 4323,
       "sourceSizeY": 4323,
       "tileHeight": 256,
       "tileWidth": 256
      },
      "text/plain": [
       "{'levels': 15,\n",
       " 'sizeX': 4194304,\n",
       " 'sizeY': 4194304,\n",
       " 'tileWidth': 256,\n",
       " 'tileHeight': 256,\n",
       " 'magnification': None,\n",
       " 'mm_x': 1381.876143450579,\n",
       " 'mm_y': 1381.876143450579,\n",
       " 'dtype': 'uint8',\n",
       " 'bandCount': 3,\n",
       " 'geospatial': True,\n",
       " 'sourceLevels': 6,\n",
       " 'sourceSizeX': 4323,\n",
       " 'sourceSizeY': 4323,\n",
       " 'bounds': {'ll': {'x': -13660993.43811085, 'y': 4502326.297712617},\n",
       "  'ul': {'x': -13660993.43811085, 'y': 4586806.951318035},\n",
       "  'lr': {'x': -13594198.136883384, 'y': 4502326.297712617},\n",
       "  'ur': {'x': -13594198.136883384, 'y': 4586806.951318035},\n",
       "  'srs': 'epsg:3857',\n",
       "  'xmin': -13660993.43811085,\n",
       "  'xmax': -13594198.136883384,\n",
       "  'ymin': 4502326.297712617,\n",
       "  'ymax': 4586806.951318035},\n",
       " 'projection': 'epsg:3857',\n",
       " 'sourceBounds': {'ll': {'x': -122.71879201711467, 'y': 37.45219874192699},\n",
       "  'ul': {'x': -122.71879201711467, 'y': 38.052231141926995},\n",
       "  'lr': {'x': -122.11875961711466, 'y': 37.45219874192699},\n",
       "  'ur': {'x': -122.11875961711466, 'y': 38.052231141926995},\n",
       "  'srs': '+proj=longlat +datum=WGS84 +no_defs',\n",
       "  'xmin': -122.71879201711467,\n",
       "  'xmax': -122.11875961711466,\n",
       "  'ymin': 37.45219874192699,\n",
       "  'ymax': 38.052231141926995},\n",
       " 'bands': {1: {'min': 5.0,\n",
       "   'max': 255.0,\n",
       "   'mean': 56.164648651261,\n",
       "   'stdev': 45.505628098154,\n",
       "   'interpretation': 'red'},\n",
       "  2: {'min': 2.0,\n",
       "   'max': 255.0,\n",
       "   'mean': 61.590676043792,\n",
       "   'stdev': 35.532493975171,\n",
       "   'interpretation': 'green'},\n",
       "  3: {'min': 1.0,\n",
       "   'max': 255.0,\n",
       "   'mean': 47.00898008224,\n",
       "   'stdev': 29.470217162239,\n",
       "   'interpretation': 'blue'}}}"
      ]
     },
     "execution_count": 9,
     "metadata": {},
     "output_type": "execute_result"
    }
   ],
   "source": [
    "geots.metadata"
   ]
  },
  {
   "cell_type": "code",
   "execution_count": 10,
   "id": "e89565cb-bbe3-4958-a691-f24aa538083d",
   "metadata": {},
   "outputs": [
    {
     "data": {
      "image/jpeg": "[encoded data removed]",
      "text/plain": [
       "ImageBytes<33608> (image/jpeg)"
      ]
     },
     "execution_count": 10,
     "metadata": {},
     "output_type": "execute_result"
    }
   ],
   "source": [
    "geots.getThumbnail()[0]"
   ]
  },
  {
   "cell_type": "markdown",
   "id": "f236bd95-fd77-4d37-9749-004f40fb8470",
   "metadata": {},
   "source": [
    "Girder Server Sources\n",
    "---------------------\n",
    "\n",
    "You can use files on a Girder server by just download them and using them locally.\n",
    "However, you can use girder client to access files more conveniently.  If the Girder server\n",
    "doesn't have the large_image plugin installed on it, this can still be useful -- functionally,\n",
    "this pulls the file and provides a local tile server, so some of this requires the same\n",
    "proxy setup as a local file.\n",
    "\n",
    "`large_image.tilesource.jupyter.Map` is a convenience class that can use a variety of remote sources.\n",
    "\n",
    "**(1)** We can get a source from girder via item or file id"
   ]
  },
  {
   "cell_type": "code",
   "execution_count": 11,
   "id": "9ebe43fb-affa-43ab-be42-064bd75bcbf7",
   "metadata": {},
   "outputs": [
    {
     "data": {
      "application/vnd.jupyter.widget-view+json": {
       "model_id": "04fae714b34f46be91a859c8dc0c9768",
       "version_major": 2,
       "version_minor": 0
      },
      "text/plain": [
       "Map(center=[6917.5, 15936.0], controls=(ZoomControl(options=['position', 'zoom_in_text', 'zoom_in_title', 'zoo…"
      ]
     },
     "metadata": {},
     "output_type": "display_data"
    }
   ],
   "source": [
    "import girder_client\n",
    "\n",
    "gc1 = girder_client.GirderClient(apiUrl='https://data.kitware.com/api/v1')\n",
    "# If you need to authenticate, an easy way is to ask directly\n",
    "# gc.authenticate(interactive=True)\n",
    "# but you could also use an API token or a variety of other methods.\n",
    "\n",
    "# We can ask for the image by item or file id\n",
    "map1 = large_image.tilesource.jupyter.Map(gc=gc1, id='57b345d28d777f126827dc28')\n",
    "map1"
   ]
  },
  {
   "cell_type": "markdown",
   "id": "707114c4-2cd0-4d86-a41d-21105a8761b7",
   "metadata": {},
   "source": [
    "**(2)** We could use a resource path instead of an id"
   ]
  },
  {
   "cell_type": "code",
   "execution_count": 12,
   "id": "a28637e4-5c34-4b59-8618-5c9e7908b00c",
   "metadata": {},
   "outputs": [
    {
     "data": {
      "application/vnd.jupyter.widget-view+json": {
       "model_id": "554b0d4fa33545e7992e86976de34e02",
       "version_major": 2,
       "version_minor": 0
      },
      "text/plain": [
       "Map(center=[5636.5, 4579.0], controls=(ZoomControl(options=['position', 'zoom_in_text', 'zoom_in_title', 'zoom…"
      ]
     },
     "metadata": {},
     "output_type": "display_data"
    }
   ],
   "source": [
    "map2 = large_image.tilesource.jupyter.Map(gc=gc1, resource='/collection/HistomicsTK/CI and tox Test Data/large_image test files/Huron.Image2_JPEG2K.tif')\n",
    "map2"
   ]
  },
  {
   "cell_type": "code",
   "execution_count": 13,
   "id": "1ea9cdae-57b1-4708-8f9e-41da933b90e2",
   "metadata": {},
   "outputs": [
    {
     "data": {
      "text/plain": [
       "'5818e9418d777f10f26ee443'"
      ]
     },
     "execution_count": 13,
     "metadata": {},
     "output_type": "execute_result"
    }
   ],
   "source": [
    "# You can get an id of an item using pure girder client calls, too.  For instance, internally, the\n",
    "# id is fetched from the resource path and then used.\n",
    "resourceFromMap2 = '/collection/HistomicsTK/CI and tox Test Data/large_image test files/Huron.Image2_JPEG2K.tif'\n",
    "idOfResource = gc1.get('resource/lookup', parameters={'path': resourceFromMap2})['_id']\n",
    "idOfResource"
   ]
  },
  {
   "cell_type": "markdown",
   "id": "535a3990-62e1-4063-bc5f-edf5494b114f",
   "metadata": {},
   "source": [
    "**(3)** We can use a girder server that has the large_image plugin enabled.  This lets us do more than\n",
    "just look at the image."
   ]
  },
  {
   "cell_type": "code",
   "execution_count": 14,
   "id": "b9611e09",
   "metadata": {},
   "outputs": [
    {
     "data": {
      "application/vnd.jupyter.widget-view+json": {
       "model_id": "aec5a5161aad4ebf9273d13ccdcc4dd5",
       "version_major": 2,
       "version_minor": 0
      },
      "text/plain": [
       "Map(center=[45252.0, 54717.0], controls=(ZoomControl(options=['position', 'zoom_in_text', 'zoom_in_title', 'zo…"
      ]
     },
     "metadata": {},
     "output_type": "display_data"
    }
   ],
   "source": [
    "gc2 = girder_client.GirderClient(apiUrl='https://demo.kitware.com/histomicstk/api/v1')\n",
    "\n",
    "resourcePath = '/collection/Crowd Source Paper/All slides/TCGA-A1-A0SP-01Z-00-DX1.20D689C6-EFA5-4694-BE76-24475A89ACC0.svs'\n",
    "map3 = large_image.tilesource.jupyter.Map(gc=gc2, resource=resourcePath)\n",
    "map3"
   ]
  },
  {
   "cell_type": "code",
   "execution_count": 15,
   "id": "48d263ec-e350-43f4-9b2f-0c7bfb508e02",
   "metadata": {},
   "outputs": [
    {
     "data": {
      "application/json": {
       "dtype": "uint8",
       "levels": 10,
       "magnification": 40,
       "mm_x": 0.0002521,
       "mm_y": 0.0002521,
       "sizeX": 109434,
       "sizeY": 90504,
       "tileHeight": 256,
       "tileWidth": 256
      },
      "text/plain": [
       "{'dtype': 'uint8',\n",
       " 'levels': 10,\n",
       " 'magnification': 40.0,\n",
       " 'mm_x': 0.0002521,\n",
       " 'mm_y': 0.0002521,\n",
       " 'sizeX': 109434,\n",
       " 'sizeY': 90504,\n",
       " 'tileHeight': 256,\n",
       " 'tileWidth': 256}"
      ]
     },
     "execution_count": 15,
     "metadata": {},
     "output_type": "execute_result"
    }
   ],
   "source": [
    "# We can check the metadata\n",
    "map3.metadata"
   ]
  },
  {
   "cell_type": "markdown",
   "id": "3ade5165-4628-4e5d-a601-6dd70fcb9190",
   "metadata": {},
   "source": [
    "We can get data as a numpy array."
   ]
  },
  {
   "cell_type": "code",
   "execution_count": 16,
   "id": "d5ad935a-3cef-41cf-95ed-3a8b79679b93",
   "metadata": {},
   "outputs": [
    {
     "data": {
      "text/plain": [
       "array([[[240, 242, 241, 255],\n",
       "        [240, 242, 241, 255],\n",
       "        [241, 242, 242, 255],\n",
       "        ...,\n",
       "        [238, 240, 239, 253],\n",
       "        [239, 241, 240, 255],\n",
       "        [239, 241, 240, 255]],\n",
       "\n",
       "       [[240, 241, 240, 255],\n",
       "        [239, 241, 240, 255],\n",
       "        [240, 241, 240, 255],\n",
       "        ...,\n",
       "        [237, 238, 238, 253],\n",
       "        [237, 239, 238, 255],\n",
       "        [237, 239, 238, 255]],\n",
       "\n",
       "       [[239, 241, 240, 255],\n",
       "        [239, 241, 240, 255],\n",
       "        [239, 241, 240, 255],\n",
       "        ...,\n",
       "        [236, 238, 237, 253],\n",
       "        [237, 239, 238, 255],\n",
       "        [237, 239, 238, 255]],\n",
       "\n",
       "       ...,\n",
       "\n",
       "       [[240, 241, 241, 255],\n",
       "        [240, 241, 241, 255],\n",
       "        [240, 241, 241, 255],\n",
       "        ...,\n",
       "        [239, 240, 239, 253],\n",
       "        [240, 241, 240, 255],\n",
       "        [239, 241, 240, 255]],\n",
       "\n",
       "       [[241, 243, 242, 255],\n",
       "        [241, 242, 242, 255],\n",
       "        [241, 242, 242, 255],\n",
       "        ...,\n",
       "        [238, 241, 240, 253],\n",
       "        [239, 242, 241, 255],\n",
       "        [239, 241, 241, 255]],\n",
       "\n",
       "       [[237, 239, 240, 253],\n",
       "        [237, 240, 240, 253],\n",
       "        [236, 239, 239, 253],\n",
       "        ...,\n",
       "        [234, 237, 238, 251],\n",
       "        [234, 237, 237, 253],\n",
       "        [235, 238, 238, 253]]], dtype=uint8)"
      ]
     },
     "execution_count": 16,
     "metadata": {},
     "output_type": "execute_result"
    }
   ],
   "source": [
    "import pickle\n",
    "\n",
    "pickle.loads(gc2.get(f'item/{map3.id}/tiles/region', parameters={'encoding': 'pickle', 'width': 100, 'height': 100},  jsonResp=False).content)\n"
   ]
  },
  {
   "cell_type": "markdown",
   "id": "a5e0f551-eb64-4a1b-b28a-d2c54854fab8",
   "metadata": {},
   "source": [
    "**(4)** From a metadata dictionary and a url.  Any slippy-map style tile server could be used."
   ]
  },
  {
   "cell_type": "code",
   "execution_count": 17,
   "id": "ef8e1818-cafc-4e0a-bf62-a7d2b6d8f453",
   "metadata": {},
   "outputs": [
    {
     "data": {
      "application/vnd.jupyter.widget-view+json": {
       "model_id": "785dccbcaeb54d6d9921acf13aca24fd",
       "version_major": 2,
       "version_minor": 0
      },
      "text/plain": [
       "Map(center=[38436.5, 47879.0], controls=(ZoomControl(options=['position', 'zoom_in_text', 'zoom_in_title', 'zo…"
      ]
     },
     "metadata": {},
     "output_type": "display_data"
    }
   ],
   "source": [
    "# There can be additional items in the metadata, but this is minimum required.\n",
    "remoteMetadata = {\n",
    "  'levels': 10,\n",
    "  'sizeX': 95758,\n",
    "  'sizeY': 76873,\n",
    "  'tileHeight': 256,\n",
    "  'tileWidth': 256,\n",
    "}\n",
    "remoteUrl = 'https://demo.kitware.com/histomicstk/api/v1/item/5bbdeec6e629140048d01bb9/tiles/zxy/{z}/{x}/{y}?encoding=PNG'\n",
    "\n",
    "map4 = large_image.tilesource.jupyter.Map(metadata=remoteMetadata, url=remoteUrl)\n",
    "map4"
   ]
  }
 ],
 "metadata": {
  "kernelspec": {
   "display_name": "Python 3 (ipykernel)",
   "language": "python",
   "name": "python3"
  },
  "language_info": {
   "codemirror_mode": {
    "name": "ipython",
    "version": 3
   },
   "file_extension": ".py",
   "mimetype": "text/x-python",
   "name": "python",
   "nbconvert_exporter": "python",
   "pygments_lexer": "ipython3",
   "version": "3.8.10"
  }
 },
 "nbformat": 4,
 "nbformat_minor": 5
}
