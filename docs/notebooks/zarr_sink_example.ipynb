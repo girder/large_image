{
 "cells": [
  {
   "cell_type": "markdown",
   "id": "9190dbbd",
   "metadata": {},
   "source": [
    "# Using the Zarr Tile Sink\n",
    "\n",
    "The `ZarrFileTileSource` class has file-writing capabilities; an empty image can be created, image data can be added as tiles or arbitrary regions, and the image can be saved to a file in any of several formats.\n",
    "\n",
    "Typically, this class is called a \"source\" when reading from a file and a \"sink\" when writing to a file. This is just a naming convention, but the read mode and write mode are not mutually exclusive."
   ]
  },
  {
   "cell_type": "markdown",
   "id": "ebaa9c80",
   "metadata": {},
   "source": [
    "## Installation"
   ]
  },
  {
   "cell_type": "code",
   "execution_count": 1,
   "id": "4ba28d02",
   "metadata": {},
   "outputs": [],
   "source": [
    "# This will install large_image with the zarr source\n",
    "!pip install large_image[tiff,zarr,converter] --find-links https://girder.github.io/large_image_wheels\n",
    "\n",
    "# For maximum capabilities in Jupyter, also install ipyleaflet so you can\n",
    "# view zoomable images in the notebook\n",
    "!pip install ipyleaflet"
   ]
  },
  {
   "cell_type": "code",
   "execution_count": 2,
   "id": "63c0c38f",
   "metadata": {},
   "outputs": [],
   "source": [
    "# Ask JupyterLab to locally proxy an internal tile server\n",
    "import importlib.util\n",
    "import large_image\n",
    "\n",
    "if importlib.util.find_spec('google') and importlib.util.find_spec('google.colab'):\n",
    "    # colab intercepts localhost\n",
    "    large_image.tilesource.jupyter.IPyLeafletMixin.JUPYTER_PROXY = 'https://localhost'\n",
    "else:\n",
    "    large_image.tilesource.jupyter.IPyLeafletMixin.JUPYTER_PROXY = True"
   ]
  },
  {
   "cell_type": "markdown",
   "id": "771078f9",
   "metadata": {},
   "source": [
    "## Sample Data Download\n",
    "\n",
    "For this example, we will use data from a sample file. We will copy and modify tiles from this image, writing the modified data to a new file."
   ]
  },
  {
   "cell_type": "code",
   "execution_count": 2,
   "id": "1c4b746b",
   "metadata": {},
   "outputs": [
    {
     "name": "stdout",
     "output_type": "stream",
     "text": [
      "  % Total    % Received % Xferd  Average Speed   Time    Time     Time  Current\n",
      "                                 Dload  Upload   Total   Spent    Left  Speed\n",
      "100 12.3M  100 12.3M    0     0  2952k      0  0:00:04  0:00:04 --:--:-- 2952k\n"
     ]
    }
   ],
   "source": [
    "!curl -L -C - -o example.tiff https://demo.kitware.com/histomicstk/api/v1/item/58b480ba92ca9a000b08c899/download"
   ]
  },
  {
   "cell_type": "code",
   "execution_count": 3,
   "id": "5c39f222",
   "metadata": {},
   "outputs": [
    {
     "data": {
      "application/json": {
       "bandCount": 3,
       "dtype": "uint8",
       "levels": 7,
       "magnification": 40,
       "mm_x": 0.00025,
       "mm_y": 0.00025,
       "sizeX": 9216,
       "sizeY": 11264,
       "tileHeight": 256,
       "tileWidth": 256
      },
      "text/plain": [
       "{'levels': 7,\n",
       " 'sizeX': 9216,\n",
       " 'sizeY': 11264,\n",
       " 'tileWidth': 256,\n",
       " 'tileHeight': 256,\n",
       " 'magnification': 40.0,\n",
       " 'mm_x': 0.00025,\n",
       " 'mm_y': 0.00025,\n",
       " 'dtype': 'uint8',\n",
       " 'bandCount': 3}"
      ]
     },
     "execution_count": 3,
     "metadata": {},
     "output_type": "execute_result"
    }
   ],
   "source": [
    "original_image_path = 'example.tiff'\n",
    "processed_image_path = 'processed_example_1.tiff'\n",
    "\n",
    "source = large_image.open(original_image_path)\n",
    "\n",
    "# view the metadata\n",
    "source_metadata = source.getMetadata()\n",
    "source_metadata"
   ]
  },
  {
   "cell_type": "code",
   "execution_count": 4,
   "id": "d2d4956c",
   "metadata": {},
   "outputs": [
    {
     "data": {
      "image/jpeg": "[encoded data removed]",
      "text/plain": [
       "ImageBytes<12955> (image/jpeg)"
      ]
     },
     "execution_count": 4,
     "metadata": {},
     "output_type": "execute_result"
    }
   ],
   "source": [
    "# show source as a static thumbnail\n",
    "source.getThumbnail()[0]"
   ]
  },
  {
   "cell_type": "code",
   "execution_count": 5,
   "id": "c018cebd",
   "metadata": {},
   "outputs": [
    {
     "data": {
      "application/vnd.jupyter.widget-view+json": {
       "model_id": "97c6787b148c4b4f9639d623f32f8a3a",
       "version_major": 2,
       "version_minor": 0
      },
      "text/plain": [
       "VBox(children=(Map(center=[5632.0, 4608.0], controls=(ZoomControl(options=['position', 'zoom_in_text', 'zoom_i…"
      ]
     },
     "metadata": {},
     "output_type": "display_data"
    }
   ],
   "source": [
    "# show the source image in an interactive viewer\n",
    "source"
   ]
  },
  {
   "cell_type": "markdown",
   "id": "f88191b2",
   "metadata": {},
   "source": [
    "## Writing Processed Data to a New File"
   ]
  },
  {
   "cell_type": "code",
   "execution_count": 7,
   "id": "0e75e6de",
   "metadata": {},
   "outputs": [],
   "source": [
    "from skimage.color.adapt_rgb import adapt_rgb, hsv_value\n",
    "from skimage import filters\n",
    "\n",
    "# define some image processing function\n",
    "\n",
    "@adapt_rgb(hsv_value)\n",
    "def process_tile(tile, footprint_size):\n",
    "    return filters.unsharp_mask(\n",
    "        tile, radius=footprint_size,\n",
    "    )"
   ]
  },
  {
   "cell_type": "code",
   "execution_count": 7,
   "id": "fb89a0b5",
   "metadata": {},
   "outputs": [
    {
     "name": "stdout",
     "output_type": "stream",
     "text": [
      "Processing image for 3 frames.\n",
      "Processing image with footprint_size =  1\n",
      "Processing image with footprint_size =  10\n",
      "Processing image with footprint_size =  50\n"
     ]
    },
    {
     "data": {
      "application/json": {
       "IndexRange": {
        "IndexFOOTPRINT": 3
       },
       "IndexStride": {
        "IndexFOOTPRINT": 1
       },
       "ValueFOOTPRINT": {
        "datatype": "int64",
        "max": 50,
        "min": 1,
        "uniform": true,
        "units": null,
        "values": [
         1,
         10,
         50
        ]
       },
       "bandCount": 3,
       "channelmap": {
        "Band 1": 0
       },
       "channels": [
        "Band 1"
       ],
       "dtype": "float64",
       "frames": [
        {
         "Channel": "Band 1",
         "Frame": 0,
         "Index": 0,
         "IndexFOOTPRINT": 0,
         "ValueFOOTPRINT": 1
        },
        {
         "Channel": "Band 1",
         "Frame": 1,
         "Index": 1,
         "IndexFOOTPRINT": 1,
         "ValueFOOTPRINT": 10
        },
        {
         "Channel": "Band 1",
         "Frame": 2,
         "Index": 2,
         "IndexFOOTPRINT": 2,
         "ValueFOOTPRINT": 50
        }
       ],
       "levels": 6,
       "magnification": null,
       "mm_x": 0,
       "mm_y": 0,
       "sizeX": 9216,
       "sizeY": 11264,
       "tileHeight": 512,
       "tileWidth": 512
      },
      "text/plain": [
       "{'levels': 6,\n",
       " 'sizeX': 9216,\n",
       " 'sizeY': 11264,\n",
       " 'tileWidth': 512,\n",
       " 'tileHeight': 512,\n",
       " 'magnification': None,\n",
       " 'mm_x': 0,\n",
       " 'mm_y': 0,\n",
       " 'dtype': 'float64',\n",
       " 'bandCount': 3,\n",
       " 'frames': [{'Frame': 0,\n",
       "   'IndexFOOTPRINT': 0,\n",
       "   'ValueFOOTPRINT': 1,\n",
       "   'Index': 0,\n",
       "   'Channel': 'Band 1'},\n",
       "  {'Frame': 1,\n",
       "   'IndexFOOTPRINT': 1,\n",
       "   'ValueFOOTPRINT': 10,\n",
       "   'Index': 1,\n",
       "   'Channel': 'Band 1'},\n",
       "  {'Frame': 2,\n",
       "   'IndexFOOTPRINT': 2,\n",
       "   'ValueFOOTPRINT': 50,\n",
       "   'Index': 2,\n",
       "   'Channel': 'Band 1'}],\n",
       " 'ValueFOOTPRINT': {'values': [1, 10, 50],\n",
       "  'uniform': True,\n",
       "  'units': None,\n",
       "  'min': 1,\n",
       "  'max': 50,\n",
       "  'datatype': 'int64'},\n",
       " 'IndexRange': {'IndexFOOTPRINT': 3},\n",
       " 'IndexStride': {'IndexFOOTPRINT': 1},\n",
       " 'channels': ['Band 1'],\n",
       " 'channelmap': {'Band 1': 0}}"
      ]
     },
     "execution_count": 8,
     "metadata": {},
     "output_type": "execute_result"
    }
   ],
   "source": [
    "# create a sink, which is an instance of ZarrFileTileSource and has no data\n",
    "sink = large_image.new()\n",
    "\n",
    "# compare three different footprint sizes for processing algorithm\n",
    "# computing the processed image takes about 1 minute for each value\n",
    "footprint_sizes = [1, 10, 50]\n",
    "print(f'Processing image for {len(footprint_sizes)} frames.')\n",
    "\n",
    "# create a frame for each processed result\n",
    "for i, footprint_size in enumerate(footprint_sizes):\n",
    "    print('Processing image with footprint_size = ', footprint_size)\n",
    "    # iterate through tiles, getting numpy arrays for each tile\n",
    "    for tile in source.tileIterator(format='numpy'):\n",
    "        # for each tile, run some processing algorithm\n",
    "        t = tile['tile']\n",
    "        processed_tile = process_tile(t, footprint_size) * 255\n",
    "\n",
    "        # add modified tile to sink\n",
    "        # specify tile x, tile y, and any arbitrary frame parameters\n",
    "        sink.addTile(processed_tile, x=tile['x'], y=tile['y'], footprint=i, footprint_value=footprint_size)\n",
    "# view metadata\n",
    "sink.getMetadata()"
   ]
  },
  {
   "cell_type": "code",
   "execution_count": 8,
   "id": "e9114da0",
   "metadata": {},
   "outputs": [
    {
     "data": {
      "application/vnd.jupyter.widget-view+json": {
       "model_id": "fb60c2b967274a99a632f32f99389705",
       "version_major": 2,
       "version_minor": 0
      },
      "text/plain": [
       "VBox(children=(IntSlider(value=0, description='Frame:', max=2), Map(center=[5632.0, 4608.0], controls=(ZoomCon…"
      ]
     },
     "metadata": {},
     "output_type": "display_data"
    }
   ],
   "source": [
    "# show the result image in an interactive viewer\n",
    "# the viewer includes a slider for this multiframe image\n",
    "# switch between frames to view the differences between the values passed to footprint_size\n",
    "sink"
   ]
  },
  {
   "cell_type": "markdown",
   "id": "3c88d352",
   "metadata": {},
   "source": [
    "## Edit Attributes and Write Result File"
   ]
  },
  {
   "cell_type": "code",
   "execution_count": 9,
   "id": "24e5c87c",
   "metadata": {},
   "outputs": [],
   "source": [
    "# set crop bounds\n",
    "sink.crop = (3000, 5000, 2048, 2048)\n",
    "\n",
    "# set mm_x and mm_y from source metadata\n",
    "sink.mm_x = source_metadata.get('mm_x')\n",
    "sink.mm_y = source_metadata.get('mm_y')\n",
    "\n",
    "# set image description\n",
    "sink.imageDescription = 'processed with scikit-image'\n",
    "\n",
    "# set additional metadata\n",
    "sink.additionalMetadata = dict(\n",
    "    filter='unsharp_mask'\n",
    ")\n",
    "\n",
    "# add original thumbnail as an associated image\n",
    "sink.addAssociatedImage(source.getThumbnail()[0], imageKey='original')\n",
    "\n",
    "# write new image as tiff (other format options include .zip, .zarr, .db, .sqlite, .svs, etc.)\n",
    "sink.write(processed_image_path)"
   ]
  },
  {
   "cell_type": "markdown",
   "id": "5ba5a838",
   "metadata": {},
   "source": [
    "## View Results"
   ]
  },
  {
   "cell_type": "code",
   "execution_count": 10,
   "id": "46d62547",
   "metadata": {},
   "outputs": [
    {
     "data": {
      "application/json": {
       "IndexRange": {
        "IndexFOOTPRINT": 3
       },
       "IndexStride": {
        "IndexFOOTPRINT": 1
       },
       "bandCount": 3,
       "channelmap": {
        "Band 1": 0
       },
       "channels": [
        "Band 1"
       ],
       "dtype": "uint16",
       "frames": [
        {
         "Channel": "Band 1",
         "Frame": 0,
         "Index": 0,
         "IndexFOOTPRINT": 0
        },
        {
         "Channel": "Band 1",
         "Frame": 1,
         "Index": 1,
         "IndexFOOTPRINT": 1
        },
        {
         "Channel": "Band 1",
         "Frame": 2,
         "Index": 2,
         "IndexFOOTPRINT": 2
        }
       ],
       "levels": 4,
       "magnification": null,
       "mm_x": null,
       "mm_y": null,
       "sizeX": 2048,
       "sizeY": 2048,
       "tileHeight": 256,
       "tileWidth": 256
      },
      "text/plain": [
       "{'levels': 4,\n",
       " 'sizeX': 2048,\n",
       " 'sizeY': 2048,\n",
       " 'tileWidth': 256,\n",
       " 'tileHeight': 256,\n",
       " 'magnification': None,\n",
       " 'mm_x': None,\n",
       " 'mm_y': None,\n",
       " 'dtype': 'uint16',\n",
       " 'bandCount': 3,\n",
       " 'frames': [{'Channel': 'Band 1', 'Frame': 0, 'Index': 0, 'IndexFOOTPRINT': 0},\n",
       "  {'Channel': 'Band 1', 'Frame': 1, 'Index': 1, 'IndexFOOTPRINT': 1},\n",
       "  {'Channel': 'Band 1', 'Frame': 2, 'Index': 2, 'IndexFOOTPRINT': 2}],\n",
       " 'IndexRange': {'IndexFOOTPRINT': 3},\n",
       " 'IndexStride': {'IndexFOOTPRINT': 1},\n",
       " 'channels': ['Band 1'],\n",
       " 'channelmap': {'Band 1': 0}}"
      ]
     },
     "execution_count": 11,
     "metadata": {},
     "output_type": "execute_result"
    }
   ],
   "source": [
    "# open written file as a new source\n",
    "# this will be opened as a TiffFileTileSource\n",
    "source_2 = large_image.open(processed_image_path)\n",
    "\n",
    "# view metadata\n",
    "source_2.getMetadata()"
   ]
  },
  {
   "cell_type": "code",
   "execution_count": 11,
   "id": "dbb8c86e",
   "metadata": {},
   "outputs": [
    {
     "data": {
      "image/jpeg": "[encoded data removed]",
      "text/plain": [
       "ImageBytes<56254> (image/jpeg)"
      ]
     },
     "execution_count": 11,
     "metadata": {},
     "output_type": "execute_result"
    }
   ],
   "source": [
    "# show source_2 as a static thumbnail\n",
    "source_2.getThumbnail()[0]"
   ]
  },
  {
   "cell_type": "code",
   "execution_count": 12,
   "id": "d71bd65a",
   "metadata": {},
   "outputs": [
    {
     "data": {
      "application/vnd.jupyter.widget-view+json": {
       "model_id": "a2d3df88fbd44079877b8f314ed97e6f",
       "version_major": 2,
       "version_minor": 0
      },
      "text/plain": [
       "VBox(children=(IntSlider(value=0, description='Frame:', max=2), Map(center=[1024.0, 1024.0], controls=(ZoomCon…"
      ]
     },
     "metadata": {},
     "output_type": "display_data"
    }
   ],
   "source": [
    "# show source_2 in an interactive viewer\n",
    "source_2"
   ]
  }
 ],
 "metadata": {
  "kernelspec": {
   "display_name": "Python 3 (ipykernel)",
   "language": "python",
   "name": "python3"
  },
  "language_info": {
   "codemirror_mode": {
    "name": "ipython",
    "version": 3
   },
   "file_extension": ".py",
   "mimetype": "text/x-python",
   "name": "python",
   "nbconvert_exporter": "python",
   "pygments_lexer": "ipython3",
   "version": "3.8.10"
  },
  "toc": {
   "base_numbering": 1,
   "nav_menu": {},
   "number_sections": true,
   "sideBar": true,
   "skip_h1_title": false,
   "title_cell": "Table of Contents",
   "title_sidebar": "Contents",
   "toc_cell": false,
   "toc_position": {},
   "toc_section_display": true,
   "toc_window_display": false
  }
 },
 "nbformat": 4,
 "nbformat_minor": 5
}
